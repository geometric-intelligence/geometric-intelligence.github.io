{
 "cells": [
  {
   "cell_type": "markdown",
   "metadata": {},
   "source": [
    "# How to download data from the server?"
   ]
  },
  {
   "cell_type": "markdown",
   "metadata": {},
   "source": [
    "This notebook shows how you can download data from the server `frank`, assuming you can do `ssh frank`.\n",
    "\n",
    "Data will be stored in `data_dir` and will be downloaded only if it does not exist there yet."
   ]
  },
  {
   "cell_type": "code",
   "execution_count": 1,
   "metadata": {},
   "outputs": [],
   "source": [
    "from polpo.preprocessing.ssh import ScpDataLoader"
   ]
  },
  {
   "cell_type": "code",
   "execution_count": 2,
   "metadata": {},
   "outputs": [
    {
     "data": {
      "text/plain": [
       "'/home/luisfpereira/.herbrain/data/pregnancy/mri/ses-01'"
      ]
     },
     "execution_count": 2,
     "metadata": {},
     "output_type": "execute_result"
    }
   ],
   "source": [
    "SESSION_ID = 1\n",
    "\n",
    "folder_name = f\"ses-{str(SESSION_ID).zfill(2)}\"\n",
    "\n",
    "loader = ScpDataLoader.from_host_name(\n",
    "    data_dir=\"~/.herbrain/data/pregnancy/mri\",\n",
    "    host_name=\"frank\",\n",
    "    remote_path=f\"/home/data/pregnancy/folder1/{folder_name}\",\n",
    "    recursive=True,\n",
    ")\n",
    "\n",
    "loader.load()"
   ]
  },
  {
   "cell_type": "markdown",
   "metadata": {},
   "source": [
    "Loading data is usually the starting point of a pipeline. See e.g. [How to visualize MRI data?](./viz_mri.ipynb) and [How to get a mesh from an MRI image?](./mri2mesh.ipynb)."
   ]
  },
  {
   "cell_type": "markdown",
   "metadata": {},
   "source": [
    "## Further reading\n",
    "\n",
    "* [How to download data from figshare?](./load_figshare_data.ipynb)\n"
   ]
  }
 ],
 "metadata": {
  "docs_topics": [
   "data_loading"
  ],
  "kernelspec": {
   "display_name": "py12",
   "language": "python",
   "name": "python3"
  },
  "language_info": {
   "codemirror_mode": {
    "name": "ipython",
    "version": 3
   },
   "file_extension": ".py",
   "mimetype": "text/x-python",
   "name": "python",
   "nbconvert_exporter": "python",
   "pygments_lexer": "ipython3",
   "version": "3.12.3"
  },
  "markers": [
   "local"
  ]
 },
 "nbformat": 4,
 "nbformat_minor": 2
}
