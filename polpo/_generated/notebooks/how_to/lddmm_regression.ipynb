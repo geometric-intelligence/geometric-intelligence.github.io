{
 "cells": [
  {
   "cell_type": "markdown",
   "metadata": {},
   "source": [
    "# LDDMM: how to do regression?\n",
    "\n",
    "\n",
    "TODO: add goals of notebook"
   ]
  },
  {
   "cell_type": "code",
   "execution_count": 1,
   "metadata": {},
   "outputs": [
    {
     "name": "stderr",
     "output_type": "stream",
     "text": [
      "W1014 14:47:58.272000 63549 site-packages/torch/utils/cpp_extension.py:118] No CUDA runtime is found, using CUDA_HOME='/usr'\n"
     ]
    }
   ],
   "source": [
    "import shutil\n",
    "from pathlib import Path\n",
    "\n",
    "import polpo.lddmm as plddmm\n",
    "import polpo.preprocessing.dict as ppdict\n",
    "import polpo.preprocessing.pd as ppd\n",
    "from polpo.preprocessing import NestingSwapper\n",
    "from polpo.preprocessing.dict import (\n",
    "    DictFilter,\n",
    "    DictMap,\n",
    "    DictMerger,\n",
    ")\n",
    "from polpo.preprocessing.load.pregnancy.jacobs import TabularDataLoader\n",
    "from polpo.preprocessing.load.pregnancy.pilot import (\n",
    "    HippocampalSubfieldsSegmentationsLoader,\n",
    ")\n",
    "from polpo.preprocessing.mesh.conversion import PvFromData\n",
    "from polpo.preprocessing.mesh.io import DictMeshWriter\n",
    "from polpo.preprocessing.mesh.registration import RigidAlignment\n",
    "from polpo.preprocessing.mesh.smoothing import PvSmoothTaubin\n",
    "from polpo.preprocessing.mesh.transform import MeshCenterer\n",
    "from polpo.preprocessing.mri import (\n",
    "    MeshExtractorFromSegmentedImage,\n",
    "    MeshExtractorFromSegmentedMesh,\n",
    ")"
   ]
  },
  {
   "cell_type": "code",
   "execution_count": 2,
   "metadata": {},
   "outputs": [],
   "source": [
    "RECOMPUTE = False"
   ]
  },
  {
   "cell_type": "code",
   "execution_count": 3,
   "metadata": {},
   "outputs": [],
   "source": [
    "T_MIN = 1.0\n",
    "T_MAX = 25.0\n",
    "\n",
    "TEMPLATE_SESSION = 3\n",
    "TARGET_SESSION = 14\n",
    "\n",
    "STRUCT_NAME = \"PostHipp\"\n",
    "\n",
    "OUTPUTS_DIR = Path(\"results\") / f\"regression_{STRUCT_NAME.lower()}\"\n",
    "REGISTRATION_DIR = OUTPUTS_DIR / \"registration\"\n",
    "REGRESSION_DIR = OUTPUTS_DIR / \"spline_regression\"\n",
    "\n",
    "\n",
    "if OUTPUTS_DIR.exists() and RECOMPUTE:\n",
    "    shutil.rmtree(OUTPUTS_DIR)\n",
    "\n",
    "\n",
    "OUTPUTS_DIR.mkdir(exist_ok=True)"
   ]
  },
  {
   "cell_type": "markdown",
   "metadata": {},
   "source": [
    "## Load predictor"
   ]
  },
  {
   "cell_type": "code",
   "execution_count": 4,
   "metadata": {},
   "outputs": [
    {
     "name": "stderr",
     "output_type": "stream",
     "text": [
      "INFO: Data has already been downloaded... using cached file ('/home/luisfpereira/.herbrain/data/maternal/maternal_brain_project_pilot/rawdata/28Baby_Hormones.csv').\n"
     ]
    },
    {
     "data": {
      "text/plain": [
       "dict_keys([3, 4, 5, 6, 7, 8, 9, 10, 11, 12, 13, 14])"
      ]
     },
     "execution_count": 4,
     "metadata": {},
     "output_type": "execute_result"
    }
   ],
   "source": [
    "loader = TabularDataLoader(subject_subset=[\"01\"], index_by_session=True)\n",
    "\n",
    "prep_pipe = (\n",
    "    ppd.ColumnsSelector(\"gestWeek\")\n",
    "    + ppd.SeriesToDict()\n",
    "    + DictFilter(lambda value: T_MIN <= value <= T_MAX)\n",
    ")\n",
    "\n",
    "# session, week\n",
    "predictor = (loader + prep_pipe)()\n",
    "\n",
    "predictor.keys()"
   ]
  },
  {
   "cell_type": "markdown",
   "metadata": {},
   "source": [
    "## Load meshes"
   ]
  },
  {
   "cell_type": "markdown",
   "metadata": {},
   "source": [
    "Following data loading of [LDDMM: how to register a mesh against a template?](./lddmm_register_mesh_template.ipynb)."
   ]
  },
  {
   "cell_type": "code",
   "execution_count": 5,
   "metadata": {},
   "outputs": [],
   "source": [
    "struct_from_image = True\n",
    "\n",
    "path2img = HippocampalSubfieldsSegmentationsLoader(\n",
    "    subset=list(predictor.keys()), as_image=True\n",
    ")\n",
    "\n",
    "if struct_from_image:\n",
    "    img2mesh = MeshExtractorFromSegmentedImage(\n",
    "        struct_id=STRUCT_NAME, encoding=\"ashs\"\n",
    "    ) + PvFromData(keep_colors=False)\n",
    "else:\n",
    "    img2mesh = (\n",
    "        MeshExtractorFromSegmentedImage(struct_id=-1, encoding=\"ashs\")\n",
    "        + PvFromData()\n",
    "        + MeshExtractorFromSegmentedMesh(struct_id=STRUCT_NAME, encoding=\"ashs\")\n",
    "    )\n",
    "\n",
    "pipe = path2img + ppdict.DictMap(img2mesh)"
   ]
  },
  {
   "cell_type": "code",
   "execution_count": 6,
   "metadata": {},
   "outputs": [
    {
     "name": "stderr",
     "output_type": "stream",
     "text": [
      "INFO: Data has already been downloaded... using cached file ('/home/luisfpereira/.herbrain/data/pregnancy/derivatives/segmentations').\n"
     ]
    },
    {
     "data": {
      "text/plain": [
       "dict_keys([3, 4, 5, 6, 7, 8, 9, 10, 11, 12, 13, 14])"
      ]
     },
     "execution_count": 6,
     "metadata": {},
     "output_type": "execute_result"
    }
   ],
   "source": [
    "raw_meshes = pipe()\n",
    "\n",
    "raw_meshes.keys()"
   ]
  },
  {
   "cell_type": "markdown",
   "metadata": {},
   "source": [
    "## Preprocessing meshes"
   ]
  },
  {
   "cell_type": "markdown",
   "metadata": {},
   "source": [
    "Following preprocessing of [LDDMM: how to register a mesh against a template?](./lddmm_register_mesh_template.ipynb),\n",
    "we center, smooth, and rigid align the meshes against the template."
   ]
  },
  {
   "cell_type": "code",
   "execution_count": 7,
   "metadata": {},
   "outputs": [],
   "source": [
    "# TODO: consider decimation if above a given number of points\n",
    "\n",
    "prep_pipe = DictMap(MeshCenterer() + PvSmoothTaubin(n_iter=20)) + RigidAlignment(\n",
    "    max_iterations=10\n",
    ")"
   ]
  },
  {
   "cell_type": "code",
   "execution_count": 8,
   "metadata": {},
   "outputs": [],
   "source": [
    "meshes = prep_pipe(raw_meshes)"
   ]
  },
  {
   "cell_type": "markdown",
   "metadata": {},
   "source": [
    "Save meshes in `vtk` format (as required by `deformetrica`)."
   ]
  },
  {
   "cell_type": "code",
   "execution_count": 9,
   "metadata": {},
   "outputs": [],
   "source": [
    "meshes_writer = DictMeshWriter(dirname=OUTPUTS_DIR, ext=\"vtk\")\n",
    "\n",
    "dataset = meshes_writer(meshes)"
   ]
  },
  {
   "cell_type": "markdown",
   "metadata": {},
   "source": [
    "We can now create the dataset:"
   ]
  },
  {
   "cell_type": "code",
   "execution_count": 10,
   "metadata": {},
   "outputs": [
    {
     "data": {
      "text/plain": [
       "((1.0, 1.5, 2.0, 3.0, 9.0, 12.0, 14.0, 15.0, 17.0, 19.0, 22.0, 24.0),\n",
       " (PosixPath('results/regression_posthipp/mesh_3.vtk'),\n",
       "  PosixPath('results/regression_posthipp/mesh_4.vtk'),\n",
       "  PosixPath('results/regression_posthipp/mesh_5.vtk'),\n",
       "  PosixPath('results/regression_posthipp/mesh_6.vtk'),\n",
       "  PosixPath('results/regression_posthipp/mesh_7.vtk'),\n",
       "  PosixPath('results/regression_posthipp/mesh_8.vtk'),\n",
       "  PosixPath('results/regression_posthipp/mesh_9.vtk'),\n",
       "  PosixPath('results/regression_posthipp/mesh_10.vtk'),\n",
       "  PosixPath('results/regression_posthipp/mesh_11.vtk'),\n",
       "  PosixPath('results/regression_posthipp/mesh_12.vtk'),\n",
       "  PosixPath('results/regression_posthipp/mesh_13.vtk'),\n",
       "  PosixPath('results/regression_posthipp/mesh_14.vtk')))"
      ]
     },
     "execution_count": 10,
     "metadata": {},
     "output_type": "execute_result"
    }
   ],
   "source": [
    "(times, mesh_filenames) = (DictMerger() + NestingSwapper())([predictor, dataset])\n",
    "\n",
    "times, mesh_filenames"
   ]
  },
  {
   "cell_type": "markdown",
   "metadata": {},
   "source": [
    "And we also normalize time:"
   ]
  },
  {
   "cell_type": "code",
   "execution_count": 11,
   "metadata": {},
   "outputs": [],
   "source": [
    "# TODO: do it in a sklearn style\n",
    "min_time = min(times)\n",
    "maxmindiff_time = max(times) - min_time\n",
    "\n",
    "times = [(time_ - min_time) / maxmindiff_time for time_ in times]"
   ]
  },
  {
   "cell_type": "markdown",
   "metadata": {},
   "source": [
    "## LDDMM"
   ]
  },
  {
   "cell_type": "markdown",
   "metadata": {},
   "source": [
    "### Step 1: find control points\n",
    "\n",
    "Follows [LDDMM: how to register a mesh against a template?](./lddmm_register_mesh_template.ipynb)."
   ]
  },
  {
   "cell_type": "code",
   "execution_count": 12,
   "metadata": {},
   "outputs": [],
   "source": [
    "# TODO: need to adapt registration parameters to substructure\n",
    "registration_kwargs = dict(\n",
    "    kernel_width=4.0,\n",
    "    regularisation=1.0,\n",
    "    max_iter=2000,\n",
    "    freeze_control_points=False,\n",
    "    attachment_kernel_width=2.0,\n",
    "    metric=\"varifold\",\n",
    "    tol=1e-16,\n",
    ")\n",
    "\n",
    "\n",
    "if not REGISTRATION_DIR.exists():\n",
    "    plddmm.registration.estimate_registration(\n",
    "        dataset[TEMPLATE_SESSION],\n",
    "        dataset[TARGET_SESSION],\n",
    "        output_dir=REGISTRATION_DIR,\n",
    "        **registration_kwargs,\n",
    "    )\n",
    "\n",
    "initial_control_points = plddmm.io.load_cp(REGISTRATION_DIR, as_path=True)"
   ]
  },
  {
   "cell_type": "markdown",
   "metadata": {},
   "source": [
    "### Step 2: perform regression"
   ]
  },
  {
   "cell_type": "code",
   "execution_count": 15,
   "metadata": {},
   "outputs": [
    {
     "data": {
      "text/plain": [
       "PosixPath('results/regression_posthipp/mesh_3.vtk')"
      ]
     },
     "execution_count": 15,
     "metadata": {},
     "output_type": "execute_result"
    }
   ],
   "source": [
    "mesh_filenames[0]"
   ]
  },
  {
   "cell_type": "code",
   "execution_count": 13,
   "metadata": {},
   "outputs": [
    {
     "name": "stdout",
     "output_type": "stream",
     "text": [
      "Logger has been set to: DEBUG\n",
      "OMP_NUM_THREADS was not found in environment variables. An automatic value will be set.\n",
      "OMP_NUM_THREADS will be set to 10\n",
      ">> Initial t0 set by the user to 0.00 ; note that the mean visit age is 0.46\n",
      "context has already been set\n",
      ">> No specified state-file. By default, Deformetrica state will by saved in file: results/regression_posthipp/spline_regression/deformetrica-state.p.\n"
     ]
    },
    {
     "ename": "KeyError",
     "evalue": "0",
     "output_type": "error",
     "traceback": [
      "\u001b[31m---------------------------------------------------------------------------\u001b[39m",
      "\u001b[31mKeyError\u001b[39m                                  Traceback (most recent call last)",
      "\u001b[36mCell\u001b[39m\u001b[36m \u001b[39m\u001b[32mIn[13]\u001b[39m\u001b[32m, line 14\u001b[39m\n\u001b[32m     11\u001b[39m target_weights = [\u001b[32m1\u001b[39m / \u001b[38;5;28mlen\u001b[39m(times)] * \u001b[38;5;28mlen\u001b[39m(times)\n\u001b[32m     13\u001b[39m \u001b[38;5;28;01mif\u001b[39;00m \u001b[38;5;129;01mnot\u001b[39;00m REGRESSION_DIR.exists():\n\u001b[32m---> \u001b[39m\u001b[32m14\u001b[39m     \u001b[43mplddmm\u001b[49m\u001b[43m.\u001b[49m\u001b[43mlearning\u001b[49m\u001b[43m.\u001b[49m\u001b[43mestimate_spline_regression\u001b[49m\u001b[43m(\u001b[49m\n\u001b[32m     15\u001b[39m \u001b[43m        \u001b[49m\u001b[43msource\u001b[49m\u001b[43m=\u001b[49m\u001b[43mmesh_filenames\u001b[49m\u001b[43m[\u001b[49m\u001b[32;43m0\u001b[39;49m\u001b[43m]\u001b[49m\u001b[43m,\u001b[49m\n\u001b[32m     16\u001b[39m \u001b[43m        \u001b[49m\u001b[43mtargets\u001b[49m\u001b[43m=\u001b[49m\u001b[43mmesh_filenames\u001b[49m\u001b[43m,\u001b[49m\n\u001b[32m     17\u001b[39m \u001b[43m        \u001b[49m\u001b[43moutput_dir\u001b[49m\u001b[43m=\u001b[49m\u001b[43mREGRESSION_DIR\u001b[49m\u001b[43m,\u001b[49m\n\u001b[32m     18\u001b[39m \u001b[43m        \u001b[49m\u001b[43mtimes\u001b[49m\u001b[43m=\u001b[49m\u001b[43mtimes\u001b[49m\u001b[43m,\u001b[49m\n\u001b[32m     19\u001b[39m \u001b[43m        \u001b[49m\u001b[43msubject_id\u001b[49m\u001b[43m=\u001b[49m\u001b[43m[\u001b[49m\u001b[33;43m\"\u001b[39;49m\u001b[33;43m\"\u001b[39;49m\u001b[43m]\u001b[49m\u001b[43m,\u001b[49m\n\u001b[32m     20\u001b[39m \u001b[43m        \u001b[49m\u001b[43mt0\u001b[49m\u001b[43m=\u001b[49m\u001b[38;5;28;43mmin\u001b[39;49m\u001b[43m(\u001b[49m\u001b[43mtimes\u001b[49m\u001b[43m)\u001b[49m\u001b[43m,\u001b[49m\n\u001b[32m     21\u001b[39m \u001b[43m        \u001b[49m\u001b[43mtarget_weights\u001b[49m\u001b[43m=\u001b[49m\u001b[43mtarget_weights\u001b[49m\u001b[43m,\u001b[49m\n\u001b[32m     22\u001b[39m \u001b[43m        \u001b[49m\u001b[43minitial_control_points\u001b[49m\u001b[43m=\u001b[49m\u001b[43minitial_control_points\u001b[49m\u001b[43m,\u001b[49m\n\u001b[32m     23\u001b[39m \u001b[43m        \u001b[49m\u001b[43m*\u001b[49m\u001b[43m*\u001b[49m\u001b[43mkwargs\u001b[49m\u001b[43m,\u001b[49m\n\u001b[32m     24\u001b[39m \u001b[43m    \u001b[49m\u001b[43m)\u001b[49m\n",
      "\u001b[36mFile \u001b[39m\u001b[32m~/Repos/github/polpo/polpo/lddmm/learning.py:403\u001b[39m, in \u001b[36mestimate_spline_regression\u001b[39m\u001b[34m(source, targets, output_dir, times, subject_id, t0, max_iter, kernel_width, regularisation, number_of_time_steps, initial_step_size, kernel_type, kernel_device, initial_control_points, tol, freeze_control_points, use_rk2_for_flow, use_rk2_for_shoot, dimension, freeze_external_forces, target_weights, geodesic_weight, metric, attachment_kernel_width, print_every)\u001b[39m\n\u001b[32m    400\u001b[39m     patient_output_dir = output_dir\n\u001b[32m    402\u001b[39m deformetrica = Deformetrica(patient_output_dir, verbosity=\u001b[33m\"\u001b[39m\u001b[33mDEBUG\u001b[39m\u001b[33m\"\u001b[39m)\n\u001b[32m--> \u001b[39m\u001b[32m403\u001b[39m \u001b[43mdeformetrica\u001b[49m\u001b[43m.\u001b[49m\u001b[43mestimate_spline_regression\u001b[49m\u001b[43m(\u001b[49m\n\u001b[32m    404\u001b[39m \u001b[43m    \u001b[49m\u001b[43mtemplate_specifications\u001b[49m\u001b[43m=\u001b[49m\u001b[43mtemplate\u001b[49m\u001b[43m,\u001b[49m\n\u001b[32m    405\u001b[39m \u001b[43m    \u001b[49m\u001b[43mdataset_specifications\u001b[49m\u001b[43m=\u001b[49m\u001b[43mdata_set\u001b[49m\u001b[43m,\u001b[49m\n\u001b[32m    406\u001b[39m \u001b[43m    \u001b[49m\u001b[43mmodel_options\u001b[49m\u001b[43m=\u001b[49m\u001b[43mmodel\u001b[49m\u001b[43m,\u001b[49m\n\u001b[32m    407\u001b[39m \u001b[43m    \u001b[49m\u001b[43mestimator_options\u001b[49m\u001b[43m=\u001b[49m\u001b[43moptimization_parameters\u001b[49m\u001b[43m,\u001b[49m\n\u001b[32m    408\u001b[39m \u001b[43m\u001b[49m\u001b[43m)\u001b[49m\n",
      "\u001b[36mFile \u001b[39m\u001b[32m~/miniconda3/envs/deformetrica/lib/python3.12/site-packages/api/deformetrica.py:405\u001b[39m, in \u001b[36mDeformetrica.estimate_spline_regression\u001b[39m\u001b[34m(self, template_specifications, dataset_specifications, model_options, estimator_options, write_output)\u001b[39m\n\u001b[32m    401\u001b[39m template_specifications, model_options, estimator_options = \u001b[38;5;28mself\u001b[39m.further_initialization(\n\u001b[32m    402\u001b[39m     \u001b[33m'\u001b[39m\u001b[33mRegression\u001b[39m\u001b[33m'\u001b[39m, template_specifications, model_options, dataset_specifications, estimator_options)\n\u001b[32m    404\u001b[39m \u001b[38;5;66;03m# Instantiate dataset.\u001b[39;00m\n\u001b[32m--> \u001b[39m\u001b[32m405\u001b[39m dataset = \u001b[43mcreate_dataset\u001b[49m\u001b[43m(\u001b[49m\u001b[43mtemplate_specifications\u001b[49m\u001b[43m,\u001b[49m\n\u001b[32m    406\u001b[39m \u001b[43m                         \u001b[49m\u001b[43mdimension\u001b[49m\u001b[43m=\u001b[49m\u001b[43mmodel_options\u001b[49m\u001b[43m[\u001b[49m\u001b[33;43m'\u001b[39;49m\u001b[33;43mdimension\u001b[39;49m\u001b[33;43m'\u001b[39;49m\u001b[43m]\u001b[49m\u001b[43m,\u001b[49m\u001b[43m \u001b[49m\u001b[43m*\u001b[49m\u001b[43m*\u001b[49m\u001b[43mdataset_specifications\u001b[49m\u001b[43m)\u001b[49m\n\u001b[32m    407\u001b[39m \u001b[38;5;28;01massert\u001b[39;00m (dataset.is_time_series()), \u001b[33m\"\u001b[39m\u001b[33mCannot estimate a spline regression from a non-time-series dataset.\u001b[39m\u001b[33m\"\u001b[39m\n\u001b[32m    409\u001b[39m \u001b[38;5;66;03m# Instantiate model.\u001b[39;00m\n",
      "\u001b[36mFile \u001b[39m\u001b[32m~/miniconda3/envs/deformetrica/lib/python3.12/site-packages/in_out/dataset_functions.py:33\u001b[39m, in \u001b[36mcreate_dataset\u001b[39m\u001b[34m(template_specifications, visit_ages, dataset_filenames, subject_ids, dimension)\u001b[39m\n\u001b[32m     31\u001b[39m reader = DeformableObjectReader()\n\u001b[32m     32\u001b[39m \u001b[38;5;28;01mfor\u001b[39;00m object_id \u001b[38;5;129;01min\u001b[39;00m template_specifications.keys():\n\u001b[32m---> \u001b[39m\u001b[32m33\u001b[39m     \u001b[38;5;28;01mif\u001b[39;00m object_id \u001b[38;5;129;01mnot\u001b[39;00m \u001b[38;5;129;01min\u001b[39;00m \u001b[43mdataset_filenames\u001b[49m\u001b[43m[\u001b[49m\u001b[43mi\u001b[49m\u001b[43m]\u001b[49m\u001b[43m[\u001b[49m\u001b[43mj\u001b[49m\u001b[43m]\u001b[49m:\n\u001b[32m     34\u001b[39m         \u001b[38;5;28;01mraise\u001b[39;00m \u001b[38;5;167;01mRuntimeError\u001b[39;00m(\u001b[33m'\u001b[39m\u001b[33mThe template object with id \u001b[39m\u001b[33m'\u001b[39m + object_id + \u001b[33m'\u001b[39m\u001b[33m is not found for the visit \u001b[39m\u001b[33m'\u001b[39m\n\u001b[32m     35\u001b[39m                            + \u001b[38;5;28mstr\u001b[39m(j) + \u001b[33m'\u001b[39m\u001b[33m of subject \u001b[39m\u001b[33m'\u001b[39m + \u001b[38;5;28mstr\u001b[39m(i) + \u001b[33m'\u001b[39m\u001b[33m. Check the dataset xml.\u001b[39m\u001b[33m'\u001b[39m)\n\u001b[32m     36\u001b[39m     \u001b[38;5;28;01melse\u001b[39;00m:\n",
      "\u001b[31mKeyError\u001b[39m: 0"
     ]
    }
   ],
   "source": [
    "spline_kwargs = dict(\n",
    "    initial_step_size=100,\n",
    "    regularisation=1.0,\n",
    "    freeze_external_forces=True,\n",
    "    freeze_control_points=True,\n",
    ")\n",
    "\n",
    "kwargs = registration_kwargs.copy()\n",
    "kwargs.update(spline_kwargs)\n",
    "\n",
    "target_weights = [1 / len(times)] * len(times)\n",
    "\n",
    "# TODO: revisit\n",
    "if not REGRESSION_DIR.exists():\n",
    "    plddmm.learning.estimate_spline_regression(\n",
    "        source=mesh_filenames[0],\n",
    "        targets=mesh_filenames,\n",
    "        output_dir=REGRESSION_DIR,\n",
    "        times=times,\n",
    "        subject_id=[\"\"],\n",
    "        t0=min(times),\n",
    "        target_weights=target_weights,\n",
    "        initial_control_points=initial_control_points,\n",
    "        **kwargs,\n",
    "    )"
   ]
  },
  {
   "cell_type": "markdown",
   "metadata": {},
   "source": [
    "## Further reading\n",
    "\n",
    "* [LDDMM: how to visualize regression results?](./lddmm_regression_viz.ipynb)"
   ]
  }
 ],
 "metadata": {
  "kernelspec": {
   "display_name": "base",
   "language": "python",
   "name": "python3"
  },
  "language_info": {
   "codemirror_mode": {
    "name": "ipython",
    "version": 3
   },
   "file_extension": ".py",
   "mimetype": "text/x-python",
   "name": "python",
   "nbconvert_exporter": "python",
   "pygments_lexer": "ipython3",
   "version": "3.12.9"
  },
  "markers": [
   "slow",
   "deformetrica",
   "skip"
  ],
  "tags": [
   "lddmm"
  ]
 },
 "nbformat": 4,
 "nbformat_minor": 2
}
