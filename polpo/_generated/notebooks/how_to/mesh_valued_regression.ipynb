{
 "cells": [
  {
   "cell_type": "markdown",
   "metadata": {},
   "source": [
    "# How to do mesh-valued regression?"
   ]
  },
  {
   "cell_type": "code",
   "execution_count": null,
   "metadata": {},
   "outputs": [],
   "source": [
    "import numpy as np\n",
    "import pyvista as pv\n",
    "from matplotlib import pyplot as plt\n",
    "from sklearn.decomposition import PCA\n",
    "from sklearn.linear_model import LinearRegression\n",
    "from sklearn.metrics import r2_score\n",
    "from sklearn.preprocessing import FunctionTransformer, StandardScaler\n",
    "\n",
    "import polpo.preprocessing.dict as ppdict\n",
    "import polpo.preprocessing.pd as ppd\n",
    "from polpo.models import ObjectRegressor\n",
    "from polpo.plot.pyvista import RegisteredMeshesGifPlotter\n",
    "from polpo.preprocessing import Map\n",
    "from polpo.preprocessing.learning import DictsToXY\n",
    "from polpo.preprocessing.load.pregnancy.jacobs import MeshLoader, TabularDataLoader\n",
    "from polpo.preprocessing.mesh.conversion import ToVertices\n",
    "from polpo.preprocessing.mesh.registration import RigidAlignment\n",
    "from polpo.sklearn.adapter import AdapterPipeline\n",
    "from polpo.sklearn.mesh import BiMeshesToVertices\n",
    "from polpo.sklearn.np import BiFlattenButFirst, FlattenButFirst"
   ]
  },
  {
   "cell_type": "code",
   "execution_count": null,
   "metadata": {},
   "outputs": [],
   "source": [
    "STATIC_VIZ = True\n",
    "\n",
    "if STATIC_VIZ:\n",
    "    pv.set_jupyter_backend(\"static\")"
   ]
  },
  {
   "cell_type": "markdown",
   "metadata": {},
   "source": [
    "## Loading meshes"
   ]
  },
  {
   "cell_type": "code",
   "execution_count": null,
   "metadata": {},
   "outputs": [],
   "source": [
    "subject_id = \"01\"\n",
    "\n",
    "file_finder = MeshLoader(\n",
    "    subject_subset=[subject_id],\n",
    "    struct_subset=[\"L_Hipp\"],\n",
    "    as_mesh=True,\n",
    ")\n",
    "\n",
    "prep_pipe = RigidAlignment(max_iterations=500)\n",
    "\n",
    "pipe = file_finder + ppdict.ExtractUniqueKey(nested=True) + prep_pipe\n",
    "\n",
    "\n",
    "meshes = pipe()"
   ]
  },
  {
   "cell_type": "markdown",
   "metadata": {},
   "source": [
    "## Loading tabular data"
   ]
  },
  {
   "cell_type": "code",
   "execution_count": null,
   "metadata": {},
   "outputs": [],
   "source": [
    "subject_id = \"01\"\n",
    "\n",
    "pipe = TabularDataLoader(subject_id=subject_id)\n",
    "\n",
    "df = pipe()"
   ]
  },
  {
   "cell_type": "markdown",
   "metadata": {},
   "source": [
    "Here, we filter the tabular data."
   ]
  },
  {
   "cell_type": "code",
   "execution_count": null,
   "metadata": {},
   "outputs": [],
   "source": [
    "session_selector = ppd.DfIsInFilter(\"stage\", [\"post\"], negate=True)\n",
    "\n",
    "predictor_selector = (\n",
    "    session_selector + ppd.ColumnsSelector(\"gestWeek\") + ppd.SeriesToDict()\n",
    ")"
   ]
  },
  {
   "cell_type": "code",
   "execution_count": null,
   "metadata": {},
   "outputs": [],
   "source": [
    "x_dict = predictor_selector(df)"
   ]
  },
  {
   "cell_type": "markdown",
   "metadata": {},
   "source": [
    "## Merge data"
   ]
  },
  {
   "cell_type": "markdown",
   "metadata": {},
   "source": [
    "We get the data in the proper format for fitting"
   ]
  },
  {
   "cell_type": "code",
   "execution_count": null,
   "metadata": {},
   "outputs": [],
   "source": [
    "dataset_pipe = DictsToXY()\n",
    "\n",
    "X, meshes_ = dataset_pipe((x_dict, meshes))\n",
    "\n",
    "X.shape, len(meshes_)"
   ]
  },
  {
   "cell_type": "markdown",
   "metadata": {},
   "source": [
    "## Create and fit regressor"
   ]
  },
  {
   "cell_type": "markdown",
   "metadata": {},
   "source": [
    "Follow [How to perform dimensionality reduction on a mesh?](./mesh_dim_reduction.ipynb), we create a pipeline to transform the output variable."
   ]
  },
  {
   "cell_type": "code",
   "execution_count": null,
   "metadata": {},
   "outputs": [],
   "source": [
    "pca = PCA(n_components=4)\n",
    "\n",
    "objs2y = AdapterPipeline(\n",
    "    steps=[\n",
    "        BiMeshesToVertices(index=0),\n",
    "        FunctionTransformer(func=np.stack),\n",
    "        BiFlattenButFirst(),\n",
    "        StandardScaler(with_std=False),\n",
    "        pca,\n",
    "    ],\n",
    ")"
   ]
  },
  {
   "cell_type": "markdown",
   "metadata": {},
   "source": [
    "Tip: `polpo.models.Meshes2FlatVertices` is syntax sugar for the code above."
   ]
  },
  {
   "cell_type": "code",
   "execution_count": null,
   "metadata": {},
   "outputs": [],
   "source": [
    "model = ObjectRegressor(LinearRegression(fit_intercept=True), objs2y=objs2y)"
   ]
  },
  {
   "cell_type": "code",
   "execution_count": null,
   "metadata": {},
   "outputs": [],
   "source": [
    "model.fit(X, meshes_)"
   ]
  },
  {
   "cell_type": "markdown",
   "metadata": {},
   "source": [
    "## Evaluate fit"
   ]
  },
  {
   "cell_type": "markdown",
   "metadata": {},
   "source": [
    "`model.predict` outputs meshes, but we know `LinearRegression` sees `PCA` components. We can evaluate [r2_score](https://scikit-learn.org/stable/modules/generated/sklearn.metrics.r2_score.html) by applying transform.\n",
    "\n",
    "NB: these are values on the training data."
   ]
  },
  {
   "cell_type": "markdown",
   "metadata": {},
   "source": [
    "Tip: `objs2y` is available in `model.objs2y`."
   ]
  },
  {
   "cell_type": "code",
   "execution_count": null,
   "metadata": {},
   "outputs": [],
   "source": [
    "meshes_pred = model.predict(X)\n",
    "\n",
    "y_true = objs2y.transform(meshes_)\n",
    "y_pred = objs2y.transform(meshes_pred)\n",
    "\n",
    "r2_score(y_true, y_pred, multioutput=\"raw_values\")"
   ]
  },
  {
   "cell_type": "code",
   "execution_count": null,
   "metadata": {},
   "outputs": [],
   "source": [
    "r2_score(y_true, y_pred, multioutput=\"uniform_average\")"
   ]
  },
  {
   "cell_type": "markdown",
   "metadata": {},
   "source": [
    "This shows the model performs poorly. (NB: the goal of this notebook is not to find a great model, but to show how the analysis can be performed. Adapting the pipeline to use different models is a no-brainer.)"
   ]
  },
  {
   "cell_type": "markdown",
   "metadata": {},
   "source": [
    "The analysis can also be done at a mesh level. The following assumes Euclidean distance."
   ]
  },
  {
   "cell_type": "code",
   "execution_count": null,
   "metadata": {},
   "outputs": [],
   "source": [
    "meshes2flatvertices = Map(ToVertices()) + np.stack + FlattenButFirst()\n",
    "\n",
    "r2_score(\n",
    "    meshes2flatvertices(meshes_),\n",
    "    meshes2flatvertices(meshes_pred),\n",
    "    multioutput=\"uniform_average\",\n",
    ")"
   ]
  },
  {
   "cell_type": "markdown",
   "metadata": {},
   "source": [
    "To build understanding, let's plot the data the model actually \"sees\"."
   ]
  },
  {
   "cell_type": "code",
   "execution_count": null,
   "metadata": {},
   "outputs": [],
   "source": [
    "_, axes = plt.subplots(2, 2, sharex=True)\n",
    "\n",
    "for index in range(4):\n",
    "    ax = axes[index // 2][index % 2]\n",
    "    ax.scatter(X[:, 0], y_true[:, index])\n",
    "    ax.set_title(f\"Comp {index}\", fontsize=10)\n",
    "    if index > 1:\n",
    "        ax.set_xlabel(\"Gestational week\")\n",
    "\n",
    "plt.tight_layout()"
   ]
  },
  {
   "cell_type": "markdown",
   "metadata": {},
   "source": [
    "## Visualize predictions"
   ]
  },
  {
   "cell_type": "code",
   "execution_count": null,
   "metadata": {},
   "outputs": [],
   "source": [
    "X_pred = np.linspace(-3, 42, num=10)[:, None]\n",
    "\n",
    "meshes_pred = model.predict(X_pred)"
   ]
  },
  {
   "cell_type": "code",
   "execution_count": null,
   "metadata": {},
   "outputs": [],
   "source": [
    "pl = RegisteredMeshesGifPlotter(fps=3)\n",
    "\n",
    "pl.add_meshes({int(x): mesh for x, mesh in zip(X_pred[:, 0], meshes_pred)})\n",
    "pl.close()\n",
    "\n",
    "pl.show()"
   ]
  },
  {
   "cell_type": "markdown",
   "metadata": {},
   "source": [
    "Let's check the predicted volumes."
   ]
  },
  {
   "cell_type": "code",
   "execution_count": null,
   "metadata": {},
   "outputs": [],
   "source": [
    "volumes = [mesh.volume for mesh in meshes_pred]\n",
    "\n",
    "plt.scatter(X_pred, volumes)\n",
    "plt.xlabel(\"Gestational week\")\n",
    "plt.ylabel(\"Volume\");"
   ]
  },
  {
   "cell_type": "markdown",
   "metadata": {},
   "source": [
    "## Further reading\n",
    "\n",
    "* [How to do multiple structures mesh-valued regression?](./multimesh_valued_regression.ipynb)"
   ]
  }
 ],
 "metadata": {
  "kernelspec": {
   "display_name": "py12",
   "language": "python",
   "name": "python3"
  },
  "language_info": {
   "codemirror_mode": {
    "name": "ipython",
    "version": 3
   },
   "file_extension": ".py",
   "mimetype": "text/x-python",
   "name": "python",
   "nbconvert_exporter": "python",
   "pygments_lexer": "ipython3",
   "version": "3.12.3"
  },
  "markers": [
   "local"
  ],
  "tags": [
   "maternal",
   "mesh"
  ]
 },
 "nbformat": 4,
 "nbformat_minor": 2
}
