{
 "cells": [
  {
   "cell_type": "markdown",
   "metadata": {},
   "source": [
    "# LDDMM: PLS regression\n",
    "\n",
    "Uses data from [LDDMM: how to estimate a deterministic atlas?](./lddmm_deterministic_atlas.ipynb).\n",
    "\n",
    "\n",
    "TODO: add purpose of notebook"
   ]
  },
  {
   "cell_type": "code",
   "execution_count": 1,
   "metadata": {},
   "outputs": [
    {
     "name": "stderr",
     "output_type": "stream",
     "text": [
      "No CUDA runtime is found, using CUDA_HOME='/usr'\n"
     ]
    }
   ],
   "source": [
    "from pathlib import Path\n",
    "\n",
    "import numpy as np\n",
    "from sklearn.cross_decomposition import PLSRegression\n",
    "from sklearn.model_selection import train_test_split\n",
    "\n",
    "import polpo.lddmm as plddmm\n",
    "import polpo.preprocessing.pd as ppd\n",
    "from polpo.model_eval import (\n",
    "    R2Score,\n",
    "    collect_eval_results,\n",
    ")\n",
    "from polpo.preprocessing.load.pregnancy.jacobs import TabularDataLoader\n",
    "from polpo.preprocessing.np import FlattenButFirst\n",
    "from polpo.sklearn.adapter import EvaluatedModel"
   ]
  },
  {
   "cell_type": "code",
   "execution_count": 2,
   "metadata": {},
   "outputs": [],
   "source": [
    "DATA_DIR = Path(\"results\") / \"atlas_example\"\n",
    "ATLAS_DIR = DATA_DIR / \"atlas\""
   ]
  },
  {
   "cell_type": "code",
   "execution_count": 3,
   "metadata": {},
   "outputs": [
    {
     "data": {
      "text/plain": [
       "((24, 3), (26, 72))"
      ]
     },
     "execution_count": 3,
     "metadata": {},
     "output_type": "execute_result"
    }
   ],
   "source": [
    "cp = plddmm.io.load_cp(ATLAS_DIR)\n",
    "momenta = plddmm.io.load_momenta(ATLAS_DIR)\n",
    "\n",
    "momenta = FlattenButFirst()(momenta)\n",
    "\n",
    "cp.shape, momenta.shape"
   ]
  },
  {
   "cell_type": "code",
   "execution_count": 4,
   "metadata": {},
   "outputs": [
    {
     "name": "stderr",
     "output_type": "stream",
     "text": [
      "INFO: Data has already been downloaded... using cached file ('/home/luisfpereira/.herbrain/data/maternal/maternal_brain_project_pilot/rawdata/28Baby_Hormones.csv').\n"
     ]
    }
   ],
   "source": [
    "data = TabularDataLoader(subject_subset=[\"01\"], index_by_session=True)()"
   ]
  },
  {
   "cell_type": "code",
   "execution_count": 5,
   "metadata": {},
   "outputs": [],
   "source": [
    "data_ = ppd.ColumnToDict(\"gestWeek\")(data)"
   ]
  },
  {
   "cell_type": "code",
   "execution_count": 6,
   "metadata": {},
   "outputs": [
    {
     "data": {
      "text/plain": [
       "((26, 1), (26, 72))"
      ]
     },
     "execution_count": 6,
     "metadata": {},
     "output_type": "execute_result"
    }
   ],
   "source": [
    "x = np.array(list(data_.values()))[:, None]\n",
    "y = momenta\n",
    "\n",
    "x.shape, y.shape"
   ]
  },
  {
   "cell_type": "code",
   "execution_count": 7,
   "metadata": {},
   "outputs": [],
   "source": [
    "model = EvaluatedModel(\n",
    "    PLSRegression(),\n",
    "    R2Score(),\n",
    ")"
   ]
  },
  {
   "cell_type": "code",
   "execution_count": 8,
   "metadata": {},
   "outputs": [],
   "source": [
    "X_train, X_test, y_train, y_test = train_test_split(\n",
    "    y,\n",
    "    x,\n",
    "    train_size=0.8,\n",
    "    shuffle=False,\n",
    ")\n",
    "\n",
    "\n",
    "model.fit(X_train, y_train);"
   ]
  },
  {
   "cell_type": "code",
   "execution_count": 9,
   "metadata": {},
   "outputs": [
    {
     "name": "stdout",
     "output_type": "stream",
     "text": [
      "['obj_regr']\n"
     ]
    }
   ],
   "source": [
    "eval_res_train = collect_eval_results(model, unnest=True, outer_key=\"obj_regr\")\n",
    "\n",
    "print(list(eval_res_train.keys()))"
   ]
  },
  {
   "cell_type": "code",
   "execution_count": 10,
   "metadata": {},
   "outputs": [
    {
     "data": {
      "text/plain": [
       "{'obj_regr': {'r2': array([0.71588517])}}"
      ]
     },
     "execution_count": 10,
     "metadata": {},
     "output_type": "execute_result"
    }
   ],
   "source": [
    "eval_res_train"
   ]
  },
  {
   "cell_type": "code",
   "execution_count": 11,
   "metadata": {},
   "outputs": [],
   "source": [
    "model.predict_eval(X_test, y_test);"
   ]
  },
  {
   "cell_type": "code",
   "execution_count": 12,
   "metadata": {},
   "outputs": [
    {
     "name": "stdout",
     "output_type": "stream",
     "text": [
      "['obj_regr']\n"
     ]
    }
   ],
   "source": [
    "eval_res_test = collect_eval_results(\n",
    "    model, unnest=True, outer_key=\"obj_regr\", train=False\n",
    ")\n",
    "\n",
    "print(list(eval_res_test.keys()))"
   ]
  },
  {
   "cell_type": "code",
   "execution_count": 13,
   "metadata": {},
   "outputs": [
    {
     "data": {
      "text/plain": [
       "{'obj_regr': {'r2': array([-2.32858353])}}"
      ]
     },
     "execution_count": 13,
     "metadata": {},
     "output_type": "execute_result"
    }
   ],
   "source": [
    "eval_res_test"
   ]
  }
 ],
 "metadata": {
  "kernelspec": {
   "display_name": "py12",
   "language": "python",
   "name": "python3"
  },
  "language_info": {
   "codemirror_mode": {
    "name": "ipython",
    "version": 3
   },
   "file_extension": ".py",
   "mimetype": "text/x-python",
   "name": "python",
   "nbconvert_exporter": "python",
   "pygments_lexer": "ipython3",
   "version": "3.11.5"
  },
  "markers": [
   "deformetrica",
   "skip"
  ],
  "tags": [
   "lddmm"
  ]
 },
 "nbformat": 4,
 "nbformat_minor": 2
}
