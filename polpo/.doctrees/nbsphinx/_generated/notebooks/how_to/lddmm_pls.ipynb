{
 "cells": [
  {
   "cell_type": "code",
   "execution_count": 1,
   "metadata": {},
   "outputs": [
    {
     "name": "stderr",
     "output_type": "stream",
     "text": [
      "No CUDA runtime is found, using CUDA_HOME='/usr'\n"
     ]
    }
   ],
   "source": [
    "from pathlib import Path\n",
    "\n",
    "import numpy as np\n",
    "from in_out.array_readers_and_writers import read_3D_array\n",
    "from sklearn.cross_decomposition import PLSRegression\n",
    "from sklearn.model_selection import train_test_split\n",
    "\n",
    "import polpo.lddmm.strings as lddmm_strings\n",
    "import polpo.preprocessing.pd as ppd\n",
    "from polpo.model_eval import (\n",
    "    R2Score,\n",
    "    collect_eval_results,\n",
    ")\n",
    "from polpo.preprocessing.load.pregnancy import DenseMaternalCsvDataLoader\n",
    "from polpo.preprocessing.mesh.io import PvReader\n",
    "from polpo.preprocessing.np import FlattenButFirst\n",
    "from polpo.sklearn.adapter import EvaluatedModel"
   ]
  },
  {
   "cell_type": "code",
   "execution_count": 2,
   "metadata": {},
   "outputs": [],
   "source": [
    "OUTPUTS_DIR = Path(\"results\") / \"atlas_example\"\n",
    "ATLAS_DIR = OUTPUTS_DIR / \"atlas\""
   ]
  },
  {
   "cell_type": "code",
   "execution_count": 3,
   "metadata": {},
   "outputs": [
    {
     "data": {
      "text/plain": [
       "(26, 72)"
      ]
     },
     "execution_count": 3,
     "metadata": {},
     "output_type": "execute_result"
    }
   ],
   "source": [
    "cp = read_3D_array(ATLAS_DIR / lddmm_strings.cp_str)\n",
    "momenta = read_3D_array(ATLAS_DIR / lddmm_strings.momenta_str)\n",
    "\n",
    "template = PvReader()(ATLAS_DIR / lddmm_strings.template_str)\n",
    "\n",
    "momenta = FlattenButFirst()(momenta[:-1])\n",
    "\n",
    "momenta.shape"
   ]
  },
  {
   "cell_type": "code",
   "execution_count": 4,
   "metadata": {},
   "outputs": [
    {
     "name": "stderr",
     "output_type": "stream",
     "text": [
      "INFO: Data has already been downloaded... using cached file ('/home/luisfpereira/.herbrain/data/maternal/raw/28Baby_Hormones.csv').\n"
     ]
    }
   ],
   "source": [
    "data = DenseMaternalCsvDataLoader(pilot=True)()"
   ]
  },
  {
   "cell_type": "code",
   "execution_count": 5,
   "metadata": {},
   "outputs": [],
   "source": [
    "cleaning_pipe = ppd.DfCopy() + ppd.Drop(27, inplace=True) + ppd.ColumnToDict(\"gestWeek\")\n",
    "\n",
    "data_ = cleaning_pipe(data)"
   ]
  },
  {
   "cell_type": "code",
   "execution_count": 6,
   "metadata": {},
   "outputs": [],
   "source": [
    "x = np.array(list(data_.values()))[:, None]\n",
    "y = momenta"
   ]
  },
  {
   "cell_type": "code",
   "execution_count": 13,
   "metadata": {},
   "outputs": [],
   "source": []
  },
  {
   "cell_type": "code",
   "execution_count": 8,
   "metadata": {},
   "outputs": [],
   "source": [
    "model = EvaluatedModel(\n",
    "    PLSRegression(),\n",
    "    R2Score(),\n",
    ")"
   ]
  },
  {
   "cell_type": "code",
   "execution_count": 14,
   "metadata": {},
   "outputs": [],
   "source": [
    "X_train, X_test, y_train, y_test = train_test_split(\n",
    "    y,\n",
    "    x,\n",
    "    train_size=0.8,\n",
    "    shuffle=False,\n",
    ")\n",
    "\n",
    "\n",
    "model.fit(X_train, y_train);"
   ]
  },
  {
   "cell_type": "code",
   "execution_count": 15,
   "metadata": {},
   "outputs": [
    {
     "name": "stdout",
     "output_type": "stream",
     "text": [
      "['obj_regr']\n"
     ]
    }
   ],
   "source": [
    "eval_res_train = collect_eval_results(model, unnest=True, outer_key=\"obj_regr\")\n",
    "\n",
    "print(list(eval_res_train.keys()))"
   ]
  },
  {
   "cell_type": "code",
   "execution_count": 16,
   "metadata": {},
   "outputs": [
    {
     "data": {
      "text/plain": [
       "{'obj_regr': {'r2': array([0.79036156])}}"
      ]
     },
     "execution_count": 16,
     "metadata": {},
     "output_type": "execute_result"
    }
   ],
   "source": [
    "eval_res_train"
   ]
  },
  {
   "cell_type": "code",
   "execution_count": 17,
   "metadata": {},
   "outputs": [],
   "source": [
    "model.predict_eval(X_test, y_test);"
   ]
  },
  {
   "cell_type": "code",
   "execution_count": 18,
   "metadata": {},
   "outputs": [
    {
     "name": "stdout",
     "output_type": "stream",
     "text": [
      "['obj_regr']\n"
     ]
    }
   ],
   "source": [
    "eval_res_test = collect_eval_results(\n",
    "    model, unnest=True, outer_key=\"obj_regr\", train=False\n",
    ")\n",
    "\n",
    "print(list(eval_res_test.keys()))"
   ]
  },
  {
   "cell_type": "code",
   "execution_count": 19,
   "metadata": {},
   "outputs": [
    {
     "data": {
      "text/plain": [
       "{'obj_regr': {'r2': array([-1.94991785])}}"
      ]
     },
     "execution_count": 19,
     "metadata": {},
     "output_type": "execute_result"
    }
   ],
   "source": [
    "eval_res_test"
   ]
  }
 ],
 "metadata": {
  "kernelspec": {
   "display_name": "py12",
   "language": "python",
   "name": "python3"
  },
  "language_info": {
   "codemirror_mode": {
    "name": "ipython",
    "version": 3
   },
   "file_extension": ".py",
   "mimetype": "text/x-python",
   "name": "python",
   "nbconvert_exporter": "python",
   "pygments_lexer": "ipython3",
   "version": "3.11.5"
  },
  "tags": [
   "lddmm"
  ]
 },
 "nbformat": 4,
 "nbformat_minor": 2
}
