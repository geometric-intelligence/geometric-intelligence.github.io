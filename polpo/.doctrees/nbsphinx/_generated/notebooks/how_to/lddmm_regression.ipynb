{
 "cells": [
  {
   "cell_type": "markdown",
   "metadata": {},
   "source": [
    "# LDDMM: how to do regression?"
   ]
  },
  {
   "cell_type": "code",
   "execution_count": 1,
   "metadata": {},
   "outputs": [
    {
     "name": "stderr",
     "output_type": "stream",
     "text": [
      "No CUDA runtime is found, using CUDA_HOME='/usr'\n"
     ]
    }
   ],
   "source": [
    "from pathlib import Path\n",
    "\n",
    "import herbrain.lddmm as lddmm\n",
    "import herbrain.lddmm.strings as lddmm_strings\n",
    "\n",
    "import polpo.preprocessing.pd as ppd\n",
    "from polpo.preprocessing import (\n",
    "    BranchingPipeline,\n",
    "    IndexMap,\n",
    "    IndexSelector,\n",
    "    Map,\n",
    "    NestingSwapper,\n",
    "    PartiallyInitializedStep,\n",
    ")\n",
    "from polpo.preprocessing.dict import (\n",
    "    DictFilter,\n",
    "    DictMap,\n",
    "    DictMerger,\n",
    "    DictToTuplesList,\n",
    "    Hash,\n",
    ")\n",
    "from polpo.preprocessing.load.pregnancy import (\n",
    "    FigsharePregnancyDataLoader,\n",
    "    PregnancyPilotSegmentationsLoader,\n",
    ")\n",
    "from polpo.preprocessing.mesh.conversion import PvFromData\n",
    "from polpo.preprocessing.mesh.filter import PvSelectColor\n",
    "from polpo.preprocessing.mesh.io import PvWriter\n",
    "from polpo.preprocessing.mesh.registration import PvAlign\n",
    "from polpo.preprocessing.mesh.smoothing import PvSmoothTaubin\n",
    "from polpo.preprocessing.mesh.transform import MeshCenterer\n",
    "from polpo.preprocessing.mri import (\n",
    "    BRAINSTRUCT2COLOR,\n",
    "    MeshExtractorFromSegmentedImage,\n",
    "    MriImageLoader,\n",
    ")"
   ]
  },
  {
   "cell_type": "code",
   "execution_count": 2,
   "metadata": {},
   "outputs": [],
   "source": [
    "T_MIN = 1.0\n",
    "T_MAX = 25.0\n",
    "\n",
    "TEMPLATE_SESSION = 3\n",
    "TARGET_SESSION = 14\n",
    "\n",
    "STRUCT_NAME = \"PostHipp\"\n",
    "\n",
    "OUTPUTS_DIR = Path(\"results\") / \"regression\"\n",
    "\n",
    "REGISTRATION_DIR = OUTPUTS_DIR / \"registration\"\n",
    "\n",
    "OUTPUTS_DIR.mkdir(exist_ok=False)\n",
    "\n",
    "# If not None, uses already computed points (assumes consistency)\n",
    "CTRL_POINTS_FILE = (\n",
    "    Path(\"results\") / \"registration\" / \"initial_registration\" / lddmm_strings.cp_str\n",
    ")"
   ]
  },
  {
   "cell_type": "markdown",
   "metadata": {},
   "source": [
    "## Load predictor"
   ]
  },
  {
   "cell_type": "markdown",
   "metadata": {},
   "source": [
    "Following [How to load a csv file?](./load_csv.ipynb) and doing preprocessing:"
   ]
  },
  {
   "cell_type": "code",
   "execution_count": 3,
   "metadata": {},
   "outputs": [
    {
     "name": "stderr",
     "output_type": "stream",
     "text": [
      "INFO: Data has already been downloaded... using cached file ('/home/luisfpereira/.herbrain/data/pregnancy/28Baby_Hormones.csv').\n"
     ]
    },
    {
     "data": {
      "text/plain": [
       "{3: 1.0,\n",
       " 4: 1.5,\n",
       " 5: 2.0,\n",
       " 6: 3.0,\n",
       " 7: 9.0,\n",
       " 8: 12.0,\n",
       " 9: 14.0,\n",
       " 10: 15.0,\n",
       " 11: 17.0,\n",
       " 12: 19.0,\n",
       " 13: 22.0,\n",
       " 14: 24.0}"
      ]
     },
     "execution_count": 3,
     "metadata": {},
     "output_type": "execute_result"
    }
   ],
   "source": [
    "loader = FigsharePregnancyDataLoader(\n",
    "    data_dir=\"~/.herbrain/data/pregnancy\",\n",
    "    remote_path=\"28Baby_Hormones.csv\",\n",
    "    use_cache=True,\n",
    ")\n",
    "\n",
    "prep_pipe = (\n",
    "    ppd.UpdateColumnValues(\n",
    "        column_name=\"sessionID\", func=lambda entry: int(entry.split(\"-\")[1])\n",
    "    )\n",
    "    + ppd.IndexSetter(key=\"sessionID\", drop=True)\n",
    "    + ppd.ColumnsSelector(\"gestWeek\")\n",
    "    + ppd.SeriesToDict()\n",
    "    + DictFilter(lambda value: T_MIN <= value <= T_MAX)\n",
    ")\n",
    "\n",
    "predictor = (loader + ppd.CsvReader() + prep_pipe)()\n",
    "\n",
    "predictor"
   ]
  },
  {
   "cell_type": "markdown",
   "metadata": {},
   "source": [
    "## Load meshes"
   ]
  },
  {
   "cell_type": "markdown",
   "metadata": {},
   "source": [
    "Following data loading of [LDDMM: how to register a mesh against a template?](./lddmm_register_mesh_template.ipynb)."
   ]
  },
  {
   "cell_type": "code",
   "execution_count": 5,
   "metadata": {},
   "outputs": [],
   "source": [
    "files_pipe = PregnancyPilotSegmentationsLoader(\n",
    "    predictor.keys(),\n",
    "    as_dict=True,\n",
    ")\n",
    "\n",
    "\n",
    "mri2mesh = MriImageLoader() + MeshExtractorFromSegmentedImage() + PvFromData()\n",
    "\n",
    "if STRUCT_NAME == -1:\n",
    "    struct_selector = lambda x: x\n",
    "\n",
    "else:\n",
    "    struct_selector = PvSelectColor(\n",
    "        color=BRAINSTRUCT2COLOR[STRUCT_NAME],\n",
    "        extract_surface=True,\n",
    "    )\n",
    "\n",
    "pipe = files_pipe + DictMap(mri2mesh + struct_selector)"
   ]
  },
  {
   "cell_type": "code",
   "execution_count": 6,
   "metadata": {},
   "outputs": [
    {
     "name": "stderr",
     "output_type": "stream",
     "text": [
      "INFO: Data has already been downloaded... using cached file ('/home/luisfpereira/.herbrain/data/pregnancy/Segmentations').\n"
     ]
    },
    {
     "data": {
      "text/plain": [
       "dict_keys([3, 4, 5, 6, 7, 8, 9, 10, 11, 12, 13, 14])"
      ]
     },
     "execution_count": 6,
     "metadata": {},
     "output_type": "execute_result"
    }
   ],
   "source": [
    "meshes = pipe()\n",
    "\n",
    "meshes.keys()"
   ]
  },
  {
   "cell_type": "markdown",
   "metadata": {},
   "source": [
    "## Preprocessing meshes"
   ]
  },
  {
   "cell_type": "markdown",
   "metadata": {},
   "source": [
    "Following preprocessing of [LDDMM: how to register a mesh against a template?](./lddmm_register_mesh_template.ipynb),\n",
    "we center, smooth, and rigid align the meshes against the template."
   ]
  },
  {
   "cell_type": "code",
   "execution_count": 7,
   "metadata": {},
   "outputs": [],
   "source": [
    "# TODO: consider decimation if above a given number of points\n",
    "\n",
    "prep_pipe = DictMap(\n",
    "    MeshCenterer() + PvSmoothTaubin(n_iter=20)\n",
    ") + PartiallyInitializedStep(\n",
    "    Step=lambda **kwargs: DictMap(PvAlign(**kwargs)),\n",
    "    _target=lambda x: x[TEMPLATE_SESSION],\n",
    "    max_iterations=10,\n",
    ")"
   ]
  },
  {
   "cell_type": "code",
   "execution_count": 8,
   "metadata": {},
   "outputs": [],
   "source": [
    "meshes = prep_pipe(meshes)"
   ]
  },
  {
   "cell_type": "markdown",
   "metadata": {},
   "source": [
    "Save meshes in `vtk` format (as required by `deformetrica`)."
   ]
  },
  {
   "cell_type": "code",
   "execution_count": 10,
   "metadata": {},
   "outputs": [],
   "source": [
    "meshes_writer = Map(PvWriter(dirname=OUTPUTS_DIR, ext=\"vtk\"))\n",
    "\n",
    "write_pipe = DictToTuplesList() + BranchingPipeline(\n",
    "    [\n",
    "        Map(IndexSelector(0)),\n",
    "        Map(\n",
    "            [\n",
    "                lambda datum: list(datum),\n",
    "                IndexMap(index=0, step=lambda session: f\"mesh_{str(session).zfill(2)}\"),\n",
    "                PvWriter(dirname=OUTPUTS_DIR, ext=\"vtk\"),\n",
    "            ]\n",
    "        ),\n",
    "    ],\n",
    "    merger=NestingSwapper() + Hash(),\n",
    ")\n",
    "\n",
    "mesh_filenames_dict = write_pipe(meshes)"
   ]
  },
  {
   "cell_type": "markdown",
   "metadata": {},
   "source": [
    "We can now create the dataset:"
   ]
  },
  {
   "cell_type": "code",
   "execution_count": 11,
   "metadata": {},
   "outputs": [],
   "source": [
    "(times, mesh_filenames) = (DictMerger() + NestingSwapper())(\n",
    "    [predictor, mesh_filenames_dict]\n",
    ")"
   ]
  },
  {
   "cell_type": "markdown",
   "metadata": {},
   "source": [
    "And we also normalize time:"
   ]
  },
  {
   "cell_type": "code",
   "execution_count": 12,
   "metadata": {},
   "outputs": [],
   "source": [
    "# TODO: do it in a sklearn style\n",
    "min_time = min(times)\n",
    "maxmindiff_time = max(times) - min_time\n",
    "\n",
    "times = [(time_ - min_time) / maxmindiff_time for time_ in times]"
   ]
  },
  {
   "cell_type": "code",
   "execution_count": 13,
   "metadata": {},
   "outputs": [],
   "source": [
    "# TODO: just to make it run, needs improvement\n",
    "mesh_filenames = [{\"shape\": filename} for filename in mesh_filenames]"
   ]
  },
  {
   "cell_type": "markdown",
   "metadata": {},
   "source": [
    "## LDDMM"
   ]
  },
  {
   "cell_type": "markdown",
   "metadata": {},
   "source": [
    "### Step 1: find control points\n",
    "\n",
    "Follows [LDDMM: how to register a mesh against a template?](./lddmm_register_mesh_template.ipynb)."
   ]
  },
  {
   "cell_type": "code",
   "execution_count": 14,
   "metadata": {},
   "outputs": [],
   "source": [
    "# TODO: need to adapt registration parameters to substructure\n",
    "registration_kwargs = dict(\n",
    "    kernel_width=4.0,\n",
    "    regularisation=1.0,\n",
    "    max_iter=2000,\n",
    "    freeze_control_points=False,\n",
    "    attachment_kernel_width=2.0,\n",
    "    metric=\"varifold\",\n",
    "    tol=1e-16,\n",
    "    filter_cp=True,\n",
    "    threshold=0.75,\n",
    ")\n",
    "\n",
    "if CTRL_POINTS_FILE is not None:\n",
    "    initial_control_points = CTRL_POINTS_FILE\n",
    "else:\n",
    "    lddmm.registration(\n",
    "        mesh_filenames[TEMPLATE_SESSION],\n",
    "        mesh_filenames[TARGET_SESSION],\n",
    "        output_dir=INITIAL_REGISTRATION_DIR,\n",
    "        **registration_kwargs,\n",
    "    )\n",
    "    initial_control_points = INITIAL_REGISTRATION_DIR / lddmm_strings.cp_str"
   ]
  },
  {
   "cell_type": "markdown",
   "metadata": {},
   "source": [
    "### Step 2: perform regression"
   ]
  },
  {
   "cell_type": "code",
   "execution_count": 15,
   "metadata": {},
   "outputs": [
    {
     "name": "stdout",
     "output_type": "stream",
     "text": [
      "Logger has been set to: DEBUG\n",
      "OMP_NUM_THREADS was not found in environment variables. An automatic value will be set.\n",
      "OMP_NUM_THREADS will be set to 10\n",
      ">> Initial t0 set by the user to 0.00 ; note that the mean visit age is 0.46\n",
      "context has already been set\n",
      ">> No specified state-file. By default, Deformetrica state will by saved in file: results/regression/deformetrica-state.p.\n",
      "instantiating kernel torch with kernel_width 4.0 and gpu_mode GpuMode.KERNEL. addr: 0x7d265fde2f10\n",
      "instantiating kernel torch with kernel_width 2.0 and gpu_mode GpuMode.KERNEL. addr: 0x7d265fdc8ad0\n",
      ">> Reading 110 initial control points from file results/registration/initial_registration/DeterministicAtlas__EstimatedParameters__ControlPoints.txt.\n",
      ">> Momenta initialized to zero.\n",
      "dtype=float32\n",
      ">> Started estimator: ScipyOptimize\n",
      "\n",
      ">> Scipy optimization method: L-BFGS-B\n",
      "\n",
      "------------------------------------- Iteration: 1 -------------------------------------\n",
      "\n",
      "------------------------------------- Iteration: 20 -------------------------------------\n",
      ">> Log-likelihood = -1.441E+03 \t [ attachment = -1.198E+03 ; regularity = -2.425E+02 ]\n",
      ">> Log-likelihood = -1.435E+03 \t [ attachment = -1.194E+03 ; regularity = -2.409E+02 ]\n",
      "\n",
      "------------------------------------- Iteration: 40 -------------------------------------\n",
      ">> Log-likelihood = -1.396E+03 \t [ attachment = -1.160E+03 ; regularity = -2.363E+02 ]\n",
      "\n",
      "------------------------------------- Iteration: 60 -------------------------------------\n",
      ">> Log-likelihood = -1.388E+03 \t [ attachment = -1.151E+03 ; regularity = -2.376E+02 ]\n",
      ">> Log-likelihood = -1.388E+03 \t [ attachment = -1.149E+03 ; regularity = -2.382E+02 ]\n",
      "\n",
      "------------------------------------- Iteration: 80 -------------------------------------\n",
      ">> Log-likelihood = -1.383E+03 \t [ attachment = -1.144E+03 ; regularity = -2.392E+02 ]\n",
      "\n",
      "------------------------------------- Iteration: 100 -------------------------------------\n",
      ">> Log-likelihood = -1.381E+03 \t [ attachment = -1.144E+03 ; regularity = -2.375E+02 ]\n",
      "\n",
      "------------------------------------- Iteration: 120 -------------------------------------\n",
      ">> Log-likelihood = -1.379E+03 \t [ attachment = -1.140E+03 ; regularity = -2.391E+02 ]\n",
      "\n",
      "------------------------------------- Iteration: 140 -------------------------------------\n",
      ">> Log-likelihood = -1.378E+03 \t [ attachment = -1.138E+03 ; regularity = -2.398E+02 ]\n",
      "\n",
      "------------------------------------- Iteration: 160 -------------------------------------\n",
      ">> Log-likelihood = -1.376E+03 \t [ attachment = -1.136E+03 ; regularity = -2.404E+02 ]\n",
      "\n",
      "------------------------------------- Iteration: 180 -------------------------------------\n",
      ">> Log-likelihood = -1.375E+03 \t [ attachment = -1.135E+03 ; regularity = -2.402E+02 ]\n",
      "\n",
      "------------------------------------- Iteration: 200 -------------------------------------\n",
      ">> Log-likelihood = -1.375E+03 \t [ attachment = -1.134E+03 ; regularity = -2.409E+02 ]\n",
      "\n",
      "------------------------------------- Iteration: 220 -------------------------------------\n",
      ">> Log-likelihood = -1.374E+03 \t [ attachment = -1.133E+03 ; regularity = -2.411E+02 ]\n",
      ">> Log-likelihood = -1.374E+03 \t [ attachment = -1.133E+03 ; regularity = -2.413E+02 ]\n",
      "\n",
      "------------------------------------- Iteration: 240 -------------------------------------\n",
      ">> Log-likelihood = -1.373E+03 \t [ attachment = -1.132E+03 ; regularity = -2.411E+02 ]\n",
      "\n",
      "------------------------------------- Iteration: 260 -------------------------------------\n",
      ">> Log-likelihood = -1.373E+03 \t [ attachment = -1.130E+03 ; regularity = -2.428E+02 ]\n",
      ">> Log-likelihood = -1.373E+03 \t [ attachment = -1.130E+03 ; regularity = -2.426E+02 ]\n",
      "\n",
      "------------------------------------- Iteration: 280 -------------------------------------\n",
      ">> Log-likelihood = -1.372E+03 \t [ attachment = -1.130E+03 ; regularity = -2.424E+02 ]\n",
      "\n",
      "------------------------------------- Iteration: 300 -------------------------------------\n",
      ">> Log-likelihood = -1.371E+03 \t [ attachment = -1.128E+03 ; regularity = -2.437E+02 ]\n",
      "\n",
      "------------------------------------- Iteration: 320 -------------------------------------\n",
      ">> Log-likelihood = -1.371E+03 \t [ attachment = -1.127E+03 ; regularity = -2.434E+02 ]\n",
      "\n",
      "------------------------------------- Iteration: 340 -------------------------------------\n",
      ">> Log-likelihood = -1.370E+03 \t [ attachment = -1.125E+03 ; regularity = -2.445E+02 ]\n",
      "\n",
      "------------------------------------- Iteration: 360 -------------------------------------\n",
      ">> Log-likelihood = -1.369E+03 \t [ attachment = -1.123E+03 ; regularity = -2.461E+02 ]\n",
      "\n",
      "------------------------------------- Iteration: 380 -------------------------------------\n",
      ">> Log-likelihood = -1.368E+03 \t [ attachment = -1.122E+03 ; regularity = -2.461E+02 ]\n",
      ">> Log-likelihood = -1.368E+03 \t [ attachment = -1.122E+03 ; regularity = -2.461E+02 ]\n",
      "\n",
      "------------------------------------- Iteration: 400 -------------------------------------\n",
      ">> Log-likelihood = -1.367E+03 \t [ attachment = -1.119E+03 ; regularity = -2.474E+02 ]\n",
      "\n",
      "------------------------------------- Iteration: 420 -------------------------------------\n",
      ">> Log-likelihood = -1.366E+03 \t [ attachment = -1.118E+03 ; regularity = -2.474E+02 ]\n",
      "\n",
      "------------------------------------- Iteration: 440 -------------------------------------\n",
      ">> Log-likelihood = -1.365E+03 \t [ attachment = -1.119E+03 ; regularity = -2.461E+02 ]\n",
      "\n",
      "------------------------------------- Iteration: 460 -------------------------------------\n",
      ">> Log-likelihood = -1.364E+03 \t [ attachment = -1.118E+03 ; regularity = -2.461E+02 ]\n",
      "\n",
      "------------------------------------- Iteration: 480 -------------------------------------\n",
      ">> Log-likelihood = -1.364E+03 \t [ attachment = -1.119E+03 ; regularity = -2.450E+02 ]\n",
      "\n",
      "------------------------------------- Iteration: 500 -------------------------------------\n",
      ">> Log-likelihood = -1.363E+03 \t [ attachment = -1.118E+03 ; regularity = -2.450E+02 ]\n",
      "\n",
      "------------------------------------- Iteration: 520 -------------------------------------\n",
      ">> Log-likelihood = -1.363E+03 \t [ attachment = -1.117E+03 ; regularity = -2.456E+02 ]\n",
      "\n",
      "------------------------------------- Iteration: 540 -------------------------------------\n",
      ">> Log-likelihood = -1.362E+03 \t [ attachment = -1.117E+03 ; regularity = -2.451E+02 ]\n",
      "\n",
      "------------------------------------- Iteration: 560 -------------------------------------\n",
      ">> Log-likelihood = -1.362E+03 \t [ attachment = -1.117E+03 ; regularity = -2.449E+02 ]\n",
      "\n",
      "------------------------------------- Iteration: 580 -------------------------------------\n",
      ">> Log-likelihood = -1.362E+03 \t [ attachment = -1.117E+03 ; regularity = -2.446E+02 ]\n",
      "\n",
      "------------------------------------- Iteration: 600 -------------------------------------\n",
      ">> Log-likelihood = -1.362E+03 \t [ attachment = -1.117E+03 ; regularity = -2.445E+02 ]\n",
      "\n",
      "------------------------------------- Iteration: 620 -------------------------------------\n",
      ">> Log-likelihood = -1.361E+03 \t [ attachment = -1.117E+03 ; regularity = -2.445E+02 ]\n",
      ">> Log-likelihood = -1.361E+03 \t [ attachment = -1.117E+03 ; regularity = -2.445E+02 ]\n",
      "\n",
      "------------------------------------- Iteration: 640 -------------------------------------\n",
      ">> Log-likelihood = -1.361E+03 \t [ attachment = -1.116E+03 ; regularity = -2.446E+02 ]\n",
      "\n",
      "------------------------------------- Iteration: 660 -------------------------------------\n",
      ">> Log-likelihood = -1.361E+03 \t [ attachment = -1.117E+03 ; regularity = -2.438E+02 ]\n",
      "\n",
      "------------------------------------- Iteration: 680 -------------------------------------\n",
      ">> Log-likelihood = -1.361E+03 \t [ attachment = -1.117E+03 ; regularity = -2.438E+02 ]\n",
      "\n",
      "------------------------------------- Iteration: 700 -------------------------------------\n",
      ">> Log-likelihood = -1.360E+03 \t [ attachment = -1.117E+03 ; regularity = -2.436E+02 ]\n",
      "\n",
      "------------------------------------- Iteration: 720 -------------------------------------\n",
      ">> Log-likelihood = -1.360E+03 \t [ attachment = -1.117E+03 ; regularity = -2.431E+02 ]\n",
      "\n",
      "------------------------------------- Iteration: 740 -------------------------------------\n",
      ">> Log-likelihood = -1.360E+03 \t [ attachment = -1.117E+03 ; regularity = -2.429E+02 ]\n",
      "\n",
      "------------------------------------- Iteration: 760 -------------------------------------\n",
      ">> Log-likelihood = -1.360E+03 \t [ attachment = -1.118E+03 ; regularity = -2.423E+02 ]\n",
      "\n",
      "------------------------------------- Iteration: 780 -------------------------------------\n",
      ">> Log-likelihood = -1.360E+03 \t [ attachment = -1.118E+03 ; regularity = -2.421E+02 ]\n",
      "\n",
      "------------------------------------- Iteration: 800 -------------------------------------\n",
      ">> Log-likelihood = -1.360E+03 \t [ attachment = -1.119E+03 ; regularity = -2.411E+02 ]\n",
      "\n",
      "------------------------------------- Iteration: 820 -------------------------------------\n",
      ">> Log-likelihood = -1.360E+03 \t [ attachment = -1.119E+03 ; regularity = -2.407E+02 ]\n",
      "\n",
      "------------------------------------- Iteration: 840 -------------------------------------\n",
      ">> Log-likelihood = -1.359E+03 \t [ attachment = -1.119E+03 ; regularity = -2.404E+02 ]\n",
      "\n",
      "------------------------------------- Iteration: 860 -------------------------------------\n",
      ">> Log-likelihood = -1.359E+03 \t [ attachment = -1.120E+03 ; regularity = -2.396E+02 ]\n",
      "\n",
      "------------------------------------- Iteration: 880 -------------------------------------\n",
      ">> Log-likelihood = -1.359E+03 \t [ attachment = -1.120E+03 ; regularity = -2.393E+02 ]\n",
      "\n",
      "------------------------------------- Iteration: 900 -------------------------------------\n",
      ">> Log-likelihood = -1.359E+03 \t [ attachment = -1.120E+03 ; regularity = -2.389E+02 ]\n",
      "\n",
      "------------------------------------- Iteration: 920 -------------------------------------\n",
      ">> Log-likelihood = -1.359E+03 \t [ attachment = -1.120E+03 ; regularity = -2.389E+02 ]\n",
      "\n",
      "------------------------------------- Iteration: 940 -------------------------------------\n",
      ">> Log-likelihood = -1.359E+03 \t [ attachment = -1.120E+03 ; regularity = -2.387E+02 ]\n",
      "\n",
      "------------------------------------- Iteration: 960 -------------------------------------\n",
      ">> Log-likelihood = -1.359E+03 \t [ attachment = -1.121E+03 ; regularity = -2.382E+02 ]\n",
      "\n",
      "------------------------------------- Iteration: 980 -------------------------------------\n",
      ">> Log-likelihood = -1.359E+03 \t [ attachment = -1.121E+03 ; regularity = -2.376E+02 ]\n",
      "\n",
      "------------------------------------- Iteration: 1000 -------------------------------------\n",
      ">> Log-likelihood = -1.359E+03 \t [ attachment = -1.121E+03 ; regularity = -2.378E+02 ]\n",
      "\n",
      "------------------------------------- Iteration: 1020 -------------------------------------\n",
      ">> Log-likelihood = -1.359E+03 \t [ attachment = -1.121E+03 ; regularity = -2.379E+02 ]\n",
      "\n",
      "------------------------------------- Iteration: 1040 -------------------------------------\n",
      ">> Log-likelihood = -1.358E+03 \t [ attachment = -1.121E+03 ; regularity = -2.376E+02 ]\n",
      "\n",
      "------------------------------------- Iteration: 1060 -------------------------------------\n",
      ">> Log-likelihood = -1.358E+03 \t [ attachment = -1.121E+03 ; regularity = -2.371E+02 ]\n",
      "\n",
      "------------------------------------- Iteration: 1080 -------------------------------------\n",
      ">> Log-likelihood = -1.358E+03 \t [ attachment = -1.122E+03 ; regularity = -2.368E+02 ]\n",
      "\n",
      "------------------------------------- Iteration: 1100 -------------------------------------\n",
      ">> Log-likelihood = -1.358E+03 \t [ attachment = -1.122E+03 ; regularity = -2.362E+02 ]\n",
      "\n",
      "------------------------------------- Iteration: 1120 -------------------------------------\n",
      ">> Log-likelihood = -1.358E+03 \t [ attachment = -1.122E+03 ; regularity = -2.359E+02 ]\n",
      "\n",
      "------------------------------------- Iteration: 1140 -------------------------------------\n",
      ">> Log-likelihood = -1.358E+03 \t [ attachment = -1.122E+03 ; regularity = -2.357E+02 ]\n",
      "\n",
      "------------------------------------- Iteration: 1160 -------------------------------------\n",
      ">> Log-likelihood = -1.358E+03 \t [ attachment = -1.122E+03 ; regularity = -2.356E+02 ]\n",
      ">> Log-likelihood = -1.358E+03 \t [ attachment = -1.122E+03 ; regularity = -2.356E+02 ]\n",
      "\n",
      "------------------------------------- Iteration: 1180 -------------------------------------\n",
      ">> Log-likelihood = -1.358E+03 \t [ attachment = -1.122E+03 ; regularity = -2.355E+02 ]\n",
      ">> Log-likelihood = -1.358E+03 \t [ attachment = -1.122E+03 ; regularity = -2.355E+02 ]\n",
      "\n",
      "------------------------------------- Iteration: 1200 -------------------------------------\n",
      ">> Log-likelihood = -1.358E+03 \t [ attachment = -1.122E+03 ; regularity = -2.355E+02 ]\n",
      "\n",
      "------------------------------------- Iteration: 1220 -------------------------------------\n",
      ">> Log-likelihood = -1.358E+03 \t [ attachment = -1.122E+03 ; regularity = -2.357E+02 ]\n",
      "\n",
      "------------------------------------- Iteration: 1240 -------------------------------------\n",
      ">> Log-likelihood = -1.358E+03 \t [ attachment = -1.122E+03 ; regularity = -2.358E+02 ]\n",
      ">> Log-likelihood = -1.358E+03 \t [ attachment = -1.122E+03 ; regularity = -2.359E+02 ]\n",
      "\n",
      "------------------------------------- Iteration: 1260 -------------------------------------\n",
      ">> Log-likelihood = -1.357E+03 \t [ attachment = -1.119E+03 ; regularity = -2.379E+02 ]\n",
      "\n",
      "------------------------------------- Iteration: 1280 -------------------------------------\n",
      ">> Log-likelihood = -1.356E+03 \t [ attachment = -1.116E+03 ; regularity = -2.401E+02 ]\n",
      "\n",
      "------------------------------------- Iteration: 1300 -------------------------------------\n",
      ">> Log-likelihood = -1.355E+03 \t [ attachment = -1.115E+03 ; regularity = -2.406E+02 ]\n",
      "\n",
      "------------------------------------- Iteration: 1320 -------------------------------------\n",
      ">> Log-likelihood = -1.354E+03 \t [ attachment = -1.116E+03 ; regularity = -2.381E+02 ]\n",
      "\n",
      "------------------------------------- Iteration: 1340 -------------------------------------\n",
      ">> Log-likelihood = -1.353E+03 \t [ attachment = -1.115E+03 ; regularity = -2.377E+02 ]\n",
      "\n",
      "------------------------------------- Iteration: 1360 -------------------------------------\n",
      ">> Log-likelihood = -1.352E+03 \t [ attachment = -1.115E+03 ; regularity = -2.365E+02 ]\n",
      "\n",
      "------------------------------------- Iteration: 1380 -------------------------------------\n",
      ">> Log-likelihood = -1.351E+03 \t [ attachment = -1.115E+03 ; regularity = -2.359E+02 ]\n",
      "\n",
      "------------------------------------- Iteration: 1400 -------------------------------------\n",
      ">> Log-likelihood = -1.350E+03 \t [ attachment = -1.114E+03 ; regularity = -2.366E+02 ]\n",
      "\n",
      "------------------------------------- Iteration: 1420 -------------------------------------\n",
      ">> Log-likelihood = -1.350E+03 \t [ attachment = -1.114E+03 ; regularity = -2.356E+02 ]\n",
      "\n",
      "------------------------------------- Iteration: 1440 -------------------------------------\n",
      ">> Log-likelihood = -1.349E+03 \t [ attachment = -1.114E+03 ; regularity = -2.350E+02 ]\n",
      "\n",
      "------------------------------------- Iteration: 1460 -------------------------------------\n",
      ">> Log-likelihood = -1.349E+03 \t [ attachment = -1.114E+03 ; regularity = -2.354E+02 ]\n",
      "\n",
      "------------------------------------- Iteration: 1480 -------------------------------------\n",
      ">> Log-likelihood = -1.349E+03 \t [ attachment = -1.113E+03 ; regularity = -2.355E+02 ]\n",
      "\n",
      "------------------------------------- Iteration: 1500 -------------------------------------\n",
      ">> Log-likelihood = -1.349E+03 \t [ attachment = -1.113E+03 ; regularity = -2.359E+02 ]\n",
      "\n",
      "------------------------------------- Iteration: 1520 -------------------------------------\n",
      ">> Log-likelihood = -1.349E+03 \t [ attachment = -1.113E+03 ; regularity = -2.356E+02 ]\n",
      "\n",
      "------------------------------------- Iteration: 1540 -------------------------------------\n",
      ">> Log-likelihood = -1.348E+03 \t [ attachment = -1.113E+03 ; regularity = -2.356E+02 ]\n",
      "\n",
      "------------------------------------- Iteration: 1560 -------------------------------------\n",
      ">> Log-likelihood = -1.348E+03 \t [ attachment = -1.112E+03 ; regularity = -2.360E+02 ]\n",
      "\n",
      "------------------------------------- Iteration: 1580 -------------------------------------\n",
      ">> Log-likelihood = -1.348E+03 \t [ attachment = -1.112E+03 ; regularity = -2.359E+02 ]\n",
      "\n",
      "------------------------------------- Iteration: 1600 -------------------------------------\n",
      ">> Log-likelihood = -1.348E+03 \t [ attachment = -1.112E+03 ; regularity = -2.360E+02 ]\n",
      "\n",
      "------------------------------------- Iteration: 1620 -------------------------------------\n",
      ">> Log-likelihood = -1.348E+03 \t [ attachment = -1.112E+03 ; regularity = -2.360E+02 ]\n",
      "\n",
      "------------------------------------- Iteration: 1640 -------------------------------------\n",
      ">> Log-likelihood = -1.348E+03 \t [ attachment = -1.112E+03 ; regularity = -2.359E+02 ]\n",
      "\n",
      "------------------------------------- Iteration: 1660 -------------------------------------\n",
      ">> Log-likelihood = -1.348E+03 \t [ attachment = -1.112E+03 ; regularity = -2.360E+02 ]\n",
      "\n",
      "------------------------------------- Iteration: 1680 -------------------------------------\n",
      ">> Log-likelihood = -1.348E+03 \t [ attachment = -1.111E+03 ; regularity = -2.364E+02 ]\n",
      "\n",
      "------------------------------------- Iteration: 1700 -------------------------------------\n",
      ">> Log-likelihood = -1.348E+03 \t [ attachment = -1.111E+03 ; regularity = -2.367E+02 ]\n",
      "\n",
      "------------------------------------- Iteration: 1720 -------------------------------------\n",
      ">> Log-likelihood = -1.347E+03 \t [ attachment = -1.111E+03 ; regularity = -2.368E+02 ]\n",
      "\n",
      "------------------------------------- Iteration: 1740 -------------------------------------\n",
      ">> Log-likelihood = -1.347E+03 \t [ attachment = -1.111E+03 ; regularity = -2.362E+02 ]\n",
      ">> Log-likelihood = -1.347E+03 \t [ attachment = -1.111E+03 ; regularity = -2.363E+02 ]\n",
      "\n",
      "------------------------------------- Iteration: 1760 -------------------------------------\n",
      ">> Log-likelihood = -1.347E+03 \t [ attachment = -1.111E+03 ; regularity = -2.365E+02 ]\n",
      "\n",
      "------------------------------------- Iteration: 1780 -------------------------------------\n",
      ">> Log-likelihood = -1.347E+03 \t [ attachment = -1.111E+03 ; regularity = -2.364E+02 ]\n",
      "\n",
      "------------------------------------- Iteration: 1800 -------------------------------------\n",
      ">> Log-likelihood = -1.347E+03 \t [ attachment = -1.110E+03 ; regularity = -2.370E+02 ]\n",
      "\n",
      "------------------------------------- Iteration: 1820 -------------------------------------\n",
      ">> Log-likelihood = -1.347E+03 \t [ attachment = -1.110E+03 ; regularity = -2.372E+02 ]\n",
      "\n",
      "------------------------------------- Iteration: 1840 -------------------------------------\n",
      ">> Log-likelihood = -1.347E+03 \t [ attachment = -1.110E+03 ; regularity = -2.368E+02 ]\n",
      "\n",
      "------------------------------------- Iteration: 1860 -------------------------------------\n",
      ">> Log-likelihood = -1.347E+03 \t [ attachment = -1.110E+03 ; regularity = -2.372E+02 ]\n",
      "\n",
      "------------------------------------- Iteration: 1880 -------------------------------------\n",
      ">> Log-likelihood = -1.347E+03 \t [ attachment = -1.110E+03 ; regularity = -2.372E+02 ]\n",
      "\n",
      "------------------------------------- Iteration: 1900 -------------------------------------\n",
      ">> Log-likelihood = -1.347E+03 \t [ attachment = -1.110E+03 ; regularity = -2.369E+02 ]\n",
      ">> Gradient at Termination: 2.2635546810751768\n",
      ">> CONVERGENCE: REL_REDUCTION_OF_F_<=_FACTR*EPSMCH\n",
      ">> Estimation took: 21 minutes and 27 seconds\n",
      "instantiating kernel torch with kernel_width 4.0 and gpu_mode GpuMode.KERNEL. addr: 0x7d2660822b50\n",
      "Deformetrica.__del__()\n"
     ]
    },
    {
     "data": {
      "text/plain": [
       "time.struct_time(tm_year=2025, tm_mon=3, tm_mday=18, tm_hour=2, tm_min=24, tm_sec=41, tm_wday=1, tm_yday=77, tm_isdst=0)"
      ]
     },
     "execution_count": 15,
     "metadata": {},
     "output_type": "execute_result"
    }
   ],
   "source": [
    "spline_kwargs = dict(\n",
    "    initial_step_size=100,\n",
    "    regularisation=1.0,\n",
    "    freeze_external_forces=True,\n",
    "    freeze_control_points=True,\n",
    ")\n",
    "\n",
    "kwargs = registration_kwargs.copy()\n",
    "kwargs.update(spline_kwargs)\n",
    "\n",
    "target_weights = [1 / len(times)] * len(times)\n",
    "\n",
    "\n",
    "lddmm.spline_regression(\n",
    "    source=mesh_filenames[0][\"shape\"],\n",
    "    targets=mesh_filenames,\n",
    "    output_dir=OUTPUTS_DIR,\n",
    "    times=times,\n",
    "    subject_id=[\"\"],\n",
    "    t0=min(times),\n",
    "    target_weights=target_weights,\n",
    "    initial_control_points=initial_control_points,\n",
    "    **kwargs,\n",
    ")"
   ]
  },
  {
   "cell_type": "markdown",
   "metadata": {},
   "source": [
    "## Further reading\n",
    "\n",
    "* [LDDMM: how to visualize regression results?](./ldddm_regression_viz.ipynb)"
   ]
  }
 ],
 "metadata": {
  "docs_topics": [
   "lddmm"
  ],
  "kernelspec": {
   "display_name": "base",
   "language": "python",
   "name": "python3"
  },
  "language_info": {
   "codemirror_mode": {
    "name": "ipython",
    "version": 3
   },
   "file_extension": ".py",
   "mimetype": "text/x-python",
   "name": "python",
   "nbconvert_exporter": "python",
   "pygments_lexer": "ipython3",
   "version": "3.11.5"
  },
  "markers": [
   "slow",
   "deformetrica"
  ]
 },
 "nbformat": 4,
 "nbformat_minor": 2
}
